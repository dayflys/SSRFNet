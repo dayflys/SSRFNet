{
  "cells": [
    {
      "cell_type": "markdown",
      "metadata": {},
      "source": [
        "# SSRFNet SVMixer Check\n",
        "로컬 체크포인트가 정상 로드되는지 확인하는 간단한 예제입니다."
      ]
    },
    {
      "cell_type": "code",
      "execution_count": 13,
      "id": "9f475e41",
      "metadata": {},
      "outputs": [
        {
          "name": "stdout",
          "output_type": "stream",
          "text": [
            "Using checkpoint: /home/koo/code/code/SSLbackend/20250906/SSRFNet_content/assets/trained_model/ssrfnet_eer0.60_sv_mixer_state_dict.pt\n",
            "Keys: 303\n",
            "Sample key: conv_layers.0.conv.weight\n",
            "Tensor shape: torch.Size([512, 1, 10])\n"
          ]
        }
      ],
      "source": [
        "import torch\n",
        "from pathlib import Path\n",
        "from experiments.eval_only.test_code.models.svmixer import SVMixer\n",
        "\n",
        "def _fix_state_dict(state_dict):\n",
        "    \"\"\"모델의 state_dict 키를 정리합니다.\"\"\"\n",
        "    state_dict = state_dict.get('state_dict', state_dict)\n",
        "    cleaned_state_dict = {}\n",
        "    for key, value in state_dict.items():\n",
        "        if key.startswith(\"student_model.\"):\n",
        "            new_key = key[len(\"student_model.\"):]\n",
        "        elif key.startswith(\"classifier.\"):\n",
        "            new_key = key[len(\"classifier.\"):]\n",
        "        else:\n",
        "            new_key = key\n",
        "        if 'total_ops' in new_key or 'total_params' in new_key:\n",
        "            continue\n",
        "        cleaned_state_dict[new_key] = value\n",
        "    return cleaned_state_dict\n",
        "\n",
        "model = SVMixer(12, 149, 1024)\n",
        "repo_root = Path.cwd()\n",
        "state_dict_path = repo_root / 'assets' / 'trained_model' / 'ssrfnet_eer0.60_sv_mixer_state_dict.pt'\n",
        "\n",
        "print('Using checkpoint:', state_dict_path)\n",
        "state_dict = torch.load(state_dict_path, map_location='cpu')\n",
        "state_dict = _fix_state_dict(state_dict)\n",
        "model.load_state_dict(state_dict)\n",
        "print('Keys:', len(state_dict.keys()))\n",
        "first_key = next(iter(state_dict))\n",
        "print('Sample key:', first_key)\n",
        "print('Tensor shape:', state_dict[first_key].shape)\n"
      ]
    },
    {
      "cell_type": "code",
      "execution_count": null,
      "id": "53487f8c",
      "metadata": {},
      "outputs": [],
      "source": []
    }
  ],
  "metadata": {
    "kernelspec": {
      "display_name": "Python 3",
      "language": "python",
      "name": "python3"
    },
    "language_info": {
      "codemirror_mode": {
        "name": "ipython",
        "version": 3
      },
      "file_extension": ".py",
      "mimetype": "text/x-python",
      "name": "python",
      "nbconvert_exporter": "python",
      "pygments_lexer": "ipython3",
      "version": "3.10.12"
    }
  },
  "nbformat": 4,
  "nbformat_minor": 5
}
